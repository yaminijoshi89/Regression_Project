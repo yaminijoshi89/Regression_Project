{
 "cells": [
  {
   "cell_type": "markdown",
   "metadata": {},
   "source": [
    "## Mortality Outcomes for Females Suffering Myocardial Infarction"
   ]
  },
  {
   "cell_type": "markdown",
   "metadata": {},
   "source": [
    "![title](mifem.png)"
   ]
  },
  {
   "cell_type": "markdown",
   "metadata": {},
   "source": [
    "__Myocardial Infarction__ : This is medical name of a heart attack. Heart Attack is caused by regular blockage in oxygen flow to the heart. \n",
    "\n",
    "Most heart attacks result from atherosclerosis. The risk factors for heart attack and atherosclerosis are basically the same:\n",
    "\n",
    "1. An abnormally high level of blood cholesterol (hypercholesterolemia)\n",
    "2. An abnormally low level of HDL (high-density lipoprotein), commonly called \"good cholesterol\"\n",
    "3. High blood pressure (hypertension)\n",
    "4. Diabetes\n",
    "5. Family history of coronary artery disease at an early age\n",
    "6. Cigarette smoking\n",
    "7. Obesity\n",
    "8. Physical inactivity (too little regular exercise)"
   ]
  },
  {
   "cell_type": "markdown",
   "metadata": {},
   "source": [
    "In early middle age, men have a greater risk of heart attack than women. However, a woman's risk increases once she begins menopause. This could be the result of a menopause-related decrease in levels of estrogen, a female sex hormone that may offer some protection against atherosclerosis.\n",
    "\n",
    "__Description__\n",
    "> The data frame has 1295 rows and 10 columns. This is the female subset of the 'monica' data frame "
   ]
  },
  {
   "cell_type": "markdown",
   "metadata": {},
   "source": [
    "Here, we are going to study/analyse mortality outcomes for females suffering from __Myocardial Infarction__.\n",
    "\n",
    "Our dataset have following columns:\n",
    "1. outcome (mortality outcome, a factor with levels live, dead)\n",
    "2. age (age at onset)\n",
    "3. yronset (year of onset)\n",
    "4. premi (previous myocardial infarction event, a factor with levels y, n, nk not known )\n",
    "5. smstat (smoking status, a factor with levels c current, x ex-smoker, n non-smoker, nk not known)\n",
    "6. diabetes (a factor with levels y, n, nk not known)\n",
    "7. highbp (high blood pressure, a factor with levels y, n, nk not known )\n",
    "8. hichol (high cholesterol, a factor with levels y, n nk not known)\n",
    "9. angina (a factor with levels y, n, nk not known) --> Type of chest pain caused due to reduced blood flow to the heart\n",
    "10. stroke (a factor with levels y, n, nk not known)\n",
    "\n",
    "__Source__\n",
    "> Newcastle (Australia) centre of the Monica project; see the web site http://www.ktl.fi/monica \n"
   ]
  },
  {
   "cell_type": "code",
   "execution_count": 1,
   "metadata": {},
   "outputs": [],
   "source": [
    "import numpy as np\n",
    "import pandas as pd\n",
    "import seaborn as sns\n",
    "import matplotlib.pyplot as plt\n",
    "%matplotlib inline\n",
    "sns.set(style=\"white\")\n",
    "sns.set(style=\"whitegrid\", color_codes=True)\n",
    "sns.set(style=\"white\")\n",
    "sns.set(style=\"whitegrid\", color_codes=True)"
   ]
  },
  {
   "cell_type": "code",
   "execution_count": 2,
   "metadata": {},
   "outputs": [],
   "source": [
    "data = pd.read_csv('DataSets//mifem.csv')"
   ]
  },
  {
   "cell_type": "markdown",
   "metadata": {},
   "source": [
    "# Data Exploration"
   ]
  },
  {
   "cell_type": "code",
   "execution_count": 3,
   "metadata": {},
   "outputs": [],
   "source": [
    "data = data.drop(labels='Unnamed: 0',axis=1)"
   ]
  },
  {
   "cell_type": "code",
   "execution_count": 4,
   "metadata": {},
   "outputs": [
    {
     "name": "stdout",
     "output_type": "stream",
     "text": [
      "Number of live people in our data are 75.2123552123552%  \n",
      "Number of dead people in our data are 24.787644787644787%  \n"
     ]
    }
   ],
   "source": [
    "data_live = len(data[data['outcome']=='live'])\n",
    "data_dead = len(data[data['outcome']=='dead'])\n",
    "data_live_p = (data_live/(data_dead+data_live))*100\n",
    "data_dead_p = (data_dead/(data_dead+data_live))*100\n",
    "print('Number of live people in our data are {}%  '.format((data_live_p)))\n",
    "print('Number of dead people in our data are {}%  '.format((data_dead_p)))"
   ]
  },
  {
   "cell_type": "markdown",
   "metadata": {},
   "source": [
    "#### We have 75% of alive people data and 25% of dead people data. This might mislead the prediction due to lack of data of people who died due to Myocardial Infarction. \n",
    "__We will have to up-sample the dead people's train data to balance it.__"
   ]
  },
  {
   "cell_type": "code",
   "execution_count": 5,
   "metadata": {},
   "outputs": [
    {
     "name": "stdout",
     "output_type": "stream",
     "text": [
      "<class 'pandas.core.frame.DataFrame'>\n",
      "RangeIndex: 1295 entries, 0 to 1294\n",
      "Data columns (total 10 columns):\n",
      "outcome     1295 non-null object\n",
      "age         1295 non-null int64\n",
      "yronset     1295 non-null int64\n",
      "premi       1295 non-null object\n",
      "smstat      1295 non-null object\n",
      "diabetes    1295 non-null object\n",
      "highbp      1295 non-null object\n",
      "hichol      1295 non-null object\n",
      "angina      1295 non-null object\n",
      "stroke      1295 non-null object\n",
      "dtypes: int64(2), object(8)\n",
      "memory usage: 101.2+ KB\n"
     ]
    }
   ],
   "source": [
    "data.info()"
   ]
  },
  {
   "cell_type": "code",
   "execution_count": 38,
   "metadata": {},
   "outputs": [
    {
     "name": "stdout",
     "output_type": "stream",
     "text": [
      "               age      yronset  outcome_dead  outcome_live      premi_n  \\\n",
      "count  1295.000000  1295.000000   1295.000000   1295.000000  1295.000000   \n",
      "mean     60.922008    88.785328      0.247876      0.752124     0.716602   \n",
      "std       7.042327     2.553647      0.431947      0.431947     0.450822   \n",
      "min      35.000000    85.000000      0.000000      0.000000     0.000000   \n",
      "25%      57.000000    87.000000      0.000000      1.000000     0.000000   \n",
      "50%      63.000000    89.000000      0.000000      1.000000     1.000000   \n",
      "75%      66.000000    91.000000      0.000000      1.000000     1.000000   \n",
      "max      69.000000    93.000000      1.000000      1.000000     1.000000   \n",
      "\n",
      "          premi_nk      premi_y     smstat_c     smstat_n    smstat_nk  ...  \\\n",
      "count  1295.000000  1295.000000  1295.000000  1295.000000  1295.000000  ...   \n",
      "mean      0.043243     0.240154     0.301158     0.403089     0.079537  ...   \n",
      "std       0.203483     0.427342     0.458939     0.490708     0.270679  ...   \n",
      "min       0.000000     0.000000     0.000000     0.000000     0.000000  ...   \n",
      "25%       0.000000     0.000000     0.000000     0.000000     0.000000  ...   \n",
      "50%       0.000000     0.000000     0.000000     0.000000     0.000000  ...   \n",
      "75%       0.000000     0.000000     1.000000     1.000000     0.000000  ...   \n",
      "max       1.000000     1.000000     1.000000     1.000000     1.000000  ...   \n",
      "\n",
      "          highbp_y     hichol_n    hichol_nk     hichol_y     angina_n  \\\n",
      "count  1295.000000  1295.000000  1295.000000  1295.000000  1295.000000   \n",
      "mean      0.627799     0.505792     0.145174     0.349035     0.559073   \n",
      "std       0.483578     0.500160     0.352412     0.476849     0.496690   \n",
      "min       0.000000     0.000000     0.000000     0.000000     0.000000   \n",
      "25%       0.000000     0.000000     0.000000     0.000000     0.000000   \n",
      "50%       1.000000     1.000000     0.000000     0.000000     1.000000   \n",
      "75%       1.000000     1.000000     0.000000     1.000000     1.000000   \n",
      "max       1.000000     1.000000     1.000000     1.000000     1.000000   \n",
      "\n",
      "         angina_nk     angina_y     stroke_n    stroke_nk     stroke_y  \n",
      "count  1295.000000  1295.000000  1295.000000  1295.000000  1295.000000  \n",
      "mean      0.076448     0.364479     0.820849     0.061004     0.118147  \n",
      "std       0.265816     0.481470     0.383627     0.239430     0.322906  \n",
      "min       0.000000     0.000000     0.000000     0.000000     0.000000  \n",
      "25%       0.000000     0.000000     1.000000     0.000000     0.000000  \n",
      "50%       0.000000     0.000000     1.000000     0.000000     0.000000  \n",
      "75%       0.000000     1.000000     1.000000     0.000000     0.000000  \n",
      "max       1.000000     1.000000     1.000000     1.000000     1.000000  \n",
      "\n",
      "[8 rows x 26 columns]\n"
     ]
    },
    {
     "data": {
      "text/html": [
       "<div>\n",
       "<style scoped>\n",
       "    .dataframe tbody tr th:only-of-type {\n",
       "        vertical-align: middle;\n",
       "    }\n",
       "\n",
       "    .dataframe tbody tr th {\n",
       "        vertical-align: top;\n",
       "    }\n",
       "\n",
       "    .dataframe thead th {\n",
       "        text-align: right;\n",
       "    }\n",
       "</style>\n",
       "<table border=\"1\" class=\"dataframe\">\n",
       "  <thead>\n",
       "    <tr style=\"text-align: right;\">\n",
       "      <th></th>\n",
       "      <th>outcome</th>\n",
       "      <th>age</th>\n",
       "      <th>yronset</th>\n",
       "      <th>premi</th>\n",
       "      <th>smstat</th>\n",
       "      <th>diabetes</th>\n",
       "      <th>highbp</th>\n",
       "      <th>hichol</th>\n",
       "      <th>angina</th>\n",
       "      <th>stroke</th>\n",
       "      <th>...</th>\n",
       "      <th>highbp_y</th>\n",
       "      <th>hichol_n</th>\n",
       "      <th>hichol_nk</th>\n",
       "      <th>hichol_y</th>\n",
       "      <th>angina_n</th>\n",
       "      <th>angina_nk</th>\n",
       "      <th>angina_y</th>\n",
       "      <th>stroke_n</th>\n",
       "      <th>stroke_nk</th>\n",
       "      <th>stroke_y</th>\n",
       "    </tr>\n",
       "  </thead>\n",
       "  <tbody>\n",
       "    <tr>\n",
       "      <th>0</th>\n",
       "      <td>live</td>\n",
       "      <td>63</td>\n",
       "      <td>85</td>\n",
       "      <td>n</td>\n",
       "      <td>x</td>\n",
       "      <td>n</td>\n",
       "      <td>y</td>\n",
       "      <td>y</td>\n",
       "      <td>n</td>\n",
       "      <td>n</td>\n",
       "      <td>...</td>\n",
       "      <td>1</td>\n",
       "      <td>0</td>\n",
       "      <td>0</td>\n",
       "      <td>1</td>\n",
       "      <td>1</td>\n",
       "      <td>0</td>\n",
       "      <td>0</td>\n",
       "      <td>1</td>\n",
       "      <td>0</td>\n",
       "      <td>0</td>\n",
       "    </tr>\n",
       "    <tr>\n",
       "      <th>1</th>\n",
       "      <td>live</td>\n",
       "      <td>55</td>\n",
       "      <td>85</td>\n",
       "      <td>n</td>\n",
       "      <td>c</td>\n",
       "      <td>n</td>\n",
       "      <td>y</td>\n",
       "      <td>y</td>\n",
       "      <td>n</td>\n",
       "      <td>n</td>\n",
       "      <td>...</td>\n",
       "      <td>1</td>\n",
       "      <td>0</td>\n",
       "      <td>0</td>\n",
       "      <td>1</td>\n",
       "      <td>1</td>\n",
       "      <td>0</td>\n",
       "      <td>0</td>\n",
       "      <td>1</td>\n",
       "      <td>0</td>\n",
       "      <td>0</td>\n",
       "    </tr>\n",
       "    <tr>\n",
       "      <th>2</th>\n",
       "      <td>live</td>\n",
       "      <td>68</td>\n",
       "      <td>85</td>\n",
       "      <td>y</td>\n",
       "      <td>nk</td>\n",
       "      <td>nk</td>\n",
       "      <td>y</td>\n",
       "      <td>nk</td>\n",
       "      <td>y</td>\n",
       "      <td>n</td>\n",
       "      <td>...</td>\n",
       "      <td>1</td>\n",
       "      <td>0</td>\n",
       "      <td>1</td>\n",
       "      <td>0</td>\n",
       "      <td>0</td>\n",
       "      <td>0</td>\n",
       "      <td>1</td>\n",
       "      <td>1</td>\n",
       "      <td>0</td>\n",
       "      <td>0</td>\n",
       "    </tr>\n",
       "    <tr>\n",
       "      <th>3</th>\n",
       "      <td>live</td>\n",
       "      <td>64</td>\n",
       "      <td>85</td>\n",
       "      <td>n</td>\n",
       "      <td>x</td>\n",
       "      <td>n</td>\n",
       "      <td>y</td>\n",
       "      <td>n</td>\n",
       "      <td>y</td>\n",
       "      <td>n</td>\n",
       "      <td>...</td>\n",
       "      <td>1</td>\n",
       "      <td>1</td>\n",
       "      <td>0</td>\n",
       "      <td>0</td>\n",
       "      <td>0</td>\n",
       "      <td>0</td>\n",
       "      <td>1</td>\n",
       "      <td>1</td>\n",
       "      <td>0</td>\n",
       "      <td>0</td>\n",
       "    </tr>\n",
       "    <tr>\n",
       "      <th>4</th>\n",
       "      <td>dead</td>\n",
       "      <td>67</td>\n",
       "      <td>85</td>\n",
       "      <td>n</td>\n",
       "      <td>nk</td>\n",
       "      <td>nk</td>\n",
       "      <td>nk</td>\n",
       "      <td>nk</td>\n",
       "      <td>nk</td>\n",
       "      <td>nk</td>\n",
       "      <td>...</td>\n",
       "      <td>0</td>\n",
       "      <td>0</td>\n",
       "      <td>1</td>\n",
       "      <td>0</td>\n",
       "      <td>0</td>\n",
       "      <td>1</td>\n",
       "      <td>0</td>\n",
       "      <td>0</td>\n",
       "      <td>1</td>\n",
       "      <td>0</td>\n",
       "    </tr>\n",
       "  </tbody>\n",
       "</table>\n",
       "<p>5 rows × 34 columns</p>\n",
       "</div>"
      ],
      "text/plain": [
       "  outcome  age  yronset premi smstat diabetes highbp hichol angina stroke  \\\n",
       "0    live   63       85     n      x        n      y      y      n      n   \n",
       "1    live   55       85     n      c        n      y      y      n      n   \n",
       "2    live   68       85     y     nk       nk      y     nk      y      n   \n",
       "3    live   64       85     n      x        n      y      n      y      n   \n",
       "4    dead   67       85     n     nk       nk     nk     nk     nk     nk   \n",
       "\n",
       "   ...  highbp_y  hichol_n  hichol_nk  hichol_y  angina_n  angina_nk  \\\n",
       "0  ...         1         0          0         1         1          0   \n",
       "1  ...         1         0          0         1         1          0   \n",
       "2  ...         1         0          1         0         0          0   \n",
       "3  ...         1         1          0         0         0          0   \n",
       "4  ...         0         0          1         0         0          1   \n",
       "\n",
       "   angina_y  stroke_n  stroke_nk  stroke_y  \n",
       "0         0         1          0         0  \n",
       "1         0         1          0         0  \n",
       "2         1         1          0         0  \n",
       "3         1         1          0         0  \n",
       "4         0         0          1         0  \n",
       "\n",
       "[5 rows x 34 columns]"
      ]
     },
     "execution_count": 38,
     "metadata": {},
     "output_type": "execute_result"
    }
   ],
   "source": [
    "print(data.describe())\n",
    "data.head()"
   ]
  },
  {
   "cell_type": "code",
   "execution_count": 7,
   "metadata": {},
   "outputs": [
    {
     "data": {
      "text/html": [
       "<div>\n",
       "<style scoped>\n",
       "    .dataframe tbody tr th:only-of-type {\n",
       "        vertical-align: middle;\n",
       "    }\n",
       "\n",
       "    .dataframe tbody tr th {\n",
       "        vertical-align: top;\n",
       "    }\n",
       "\n",
       "    .dataframe thead th {\n",
       "        text-align: right;\n",
       "    }\n",
       "</style>\n",
       "<table border=\"1\" class=\"dataframe\">\n",
       "  <thead>\n",
       "    <tr style=\"text-align: right;\">\n",
       "      <th></th>\n",
       "      <th>age</th>\n",
       "    </tr>\n",
       "    <tr>\n",
       "      <th>yronset</th>\n",
       "      <th></th>\n",
       "    </tr>\n",
       "  </thead>\n",
       "  <tbody>\n",
       "    <tr>\n",
       "      <th>85</th>\n",
       "      <td>60.919192</td>\n",
       "    </tr>\n",
       "    <tr>\n",
       "      <th>86</th>\n",
       "      <td>59.935780</td>\n",
       "    </tr>\n",
       "    <tr>\n",
       "      <th>87</th>\n",
       "      <td>60.574468</td>\n",
       "    </tr>\n",
       "    <tr>\n",
       "      <th>88</th>\n",
       "      <td>60.831683</td>\n",
       "    </tr>\n",
       "    <tr>\n",
       "      <th>89</th>\n",
       "      <td>59.420168</td>\n",
       "    </tr>\n",
       "    <tr>\n",
       "      <th>90</th>\n",
       "      <td>59.716981</td>\n",
       "    </tr>\n",
       "    <tr>\n",
       "      <th>91</th>\n",
       "      <td>60.785714</td>\n",
       "    </tr>\n",
       "    <tr>\n",
       "      <th>92</th>\n",
       "      <td>60.835294</td>\n",
       "    </tr>\n",
       "    <tr>\n",
       "      <th>93</th>\n",
       "      <td>60.905172</td>\n",
       "    </tr>\n",
       "  </tbody>\n",
       "</table>\n",
       "</div>"
      ],
      "text/plain": [
       "               age\n",
       "yronset           \n",
       "85       60.919192\n",
       "86       59.935780\n",
       "87       60.574468\n",
       "88       60.831683\n",
       "89       59.420168\n",
       "90       59.716981\n",
       "91       60.785714\n",
       "92       60.835294\n",
       "93       60.905172"
      ]
     },
     "execution_count": 7,
     "metadata": {},
     "output_type": "execute_result"
    }
   ],
   "source": [
    "data_live.groupby('yronset').mean()"
   ]
  },
  {
   "cell_type": "markdown",
   "metadata": {},
   "source": [
    "# Visualizations"
   ]
  },
  {
   "cell_type": "code",
   "execution_count": 54,
   "metadata": {},
   "outputs": [
    {
     "data": {
      "text/plain": [
       "Text(0, 0.5, 'Frequency of Premi')"
      ]
     },
     "execution_count": 54,
     "metadata": {},
     "output_type": "execute_result"
    },
    {
     "data": {
      "image/png": "[encoded data removed]",
      "text/plain": [
       "<Figure size 432x288 with 1 Axes>"
      ]
     },
     "metadata": {},
     "output_type": "display_data"
    }
   ],
   "source": [
    "pd.crosstab(data.premi,data.outcome).plot(kind='Bar')\n",
    "plt.title('Previous event of MI(PREMI) frequency')\n",
    "plt.xlabel('Premi')\n",
    "plt.ylabel('Frequency of Premi')"
   ]
  },
  {
   "cell_type": "markdown",
   "metadata": {},
   "source": [
    "Previous Myocardial Infarction event seems to be a good perdictor"
   ]
  },
  {
   "cell_type": "code",
   "execution_count": 7,
   "metadata": {},
   "outputs": [
    {
     "data": {
      "text/plain": [
       "Text(0, 0.5, 'Frequency')"
      ]
     },
     "execution_count": 7,
     "metadata": {},
     "output_type": "execute_result"
    },
    {
     "data": {
      "image/png": "[encoded data removed]",
      "text/plain": [
       "<Figure size 720x432 with 1 Axes>"
      ]
     },
     "metadata": {
      "needs_background": "light"
     },
     "output_type": "display_data"
    }
   ],
   "source": [
    "plt.figure(figsize=(10,6))\n",
    "data[data['outcome']=='live']['age'].hist(alpha=0.5,color='blue',bins=10,label='outcome=live')\n",
    "data[data['outcome']=='dead']['age'].hist(alpha=0.5,color='red',bins=10,label='outcome=dead')\n",
    "plt.legend()\n",
    "plt.title('Histogram of Disease Onset Age as per outcome')\n",
    "plt.xlabel('Age')\n",
    "plt.ylabel('Frequency')"
   ]
  },
  {
   "cell_type": "markdown",
   "metadata": {},
   "source": [
    "Majority of people's age of onset of disease in dataset lies between 59-69"
   ]
  },
  {
   "cell_type": "code",
   "execution_count": 55,
   "metadata": {},
   "outputs": [
    {
     "data": {
      "text/plain": [
       "Text(0.5, 1.0, 'Year wise frequency of disease onset')"
      ]
     },
     "execution_count": 55,
     "metadata": {},
     "output_type": "execute_result"
    },
    {
     "data": {
      "image/png": "[encoded data removed]",
      "text/plain": [
       "<Figure size 432x288 with 1 Axes>"
      ]
     },
     "metadata": {},
     "output_type": "display_data"
    }
   ],
   "source": [
    "sns.countplot(data.yronset,hue=data.outcome)\n",
    "plt.title('Year wise frequency of disease onset')"
   ]
  },
  {
   "cell_type": "markdown",
   "metadata": {},
   "source": [
    "Here, we can see that deaths of people have declined after year '90 (Dead<30) compared to year '85 (60>Dead>50) "
   ]
  },
  {
   "cell_type": "code",
   "execution_count": 57,
   "metadata": {},
   "outputs": [
    {
     "data": {
      "text/plain": [
       "Text(0, 0.5, 'Proportion of people alive')"
      ]
     },
     "execution_count": 57,
     "metadata": {},
     "output_type": "execute_result"
    },
    {
     "data": {
      "image/png": "[encoded data removed]",
      "text/plain": [
       "<Figure size 432x288 with 1 Axes>"
      ]
     },
     "metadata": {},
     "output_type": "display_data"
    }
   ],
   "source": [
    "table = pd.crosstab(data.smstat,data.outcome)\n",
    "table.div(table.sum(1).astype(float),axis=0).plot(kind='bar',stacked=True)\n",
    "plt.title('Stacked bar chart of smoking status vs outcome')\n",
    "plt.xlabel('Smoking Status')\n",
    "plt.ylabel('Proportion of people alive')"
   ]
  },
  {
   "cell_type": "code",
   "execution_count": 61,
   "metadata": {},
   "outputs": [
    {
     "data": {
      "text/plain": [
       "<matplotlib.axes._subplots.AxesSubplot at 0x19a4a9d29b0>"
      ]
     },
     "execution_count": 61,
     "metadata": {},
     "output_type": "execute_result"
    },
    {
     "data": {
      "image/png": "[encoded data removed]",
      "text/plain": [
       "<Figure size 432x288 with 1 Axes>"
      ]
     },
     "metadata": {},
     "output_type": "display_data"
    }
   ],
   "source": [
    "table = pd.crosstab(data.diabetes,data.outcome)\n",
    "table.div(table.sum(1).astype(float),axis=0).plot(kind='bar',stacked=True)"
   ]
  },
  {
   "cell_type": "code",
   "execution_count": 64,
   "metadata": {},
   "outputs": [
    {
     "data": {
      "text/plain": [
       "Text(0, 0.5, 'Frequency')"
      ]
     },
     "execution_count": 64,
     "metadata": {},
     "output_type": "execute_result"
    },
    {
     "data": {
      "image/png": "[encoded data removed]",
      "text/plain": [
       "<Figure size 432x288 with 1 Axes>"
      ]
     },
     "metadata": {},
     "output_type": "display_data"
    }
   ],
   "source": [
    "pd.crosstab(data.highbp,data.outcome).plot(kind='bar')\n",
    "plt.title('Effect of High BP on outcome')\n",
    "plt.xlabel('High Blood Pressure')\n",
    "plt.ylabel('Frequency')"
   ]
  },
  {
   "cell_type": "code",
   "execution_count": 66,
   "metadata": {},
   "outputs": [
    {
     "data": {
      "text/plain": [
       "Text(0.5, 1.0, 'High Cholestrol Frequency')"
      ]
     },
     "execution_count": 66,
     "metadata": {},
     "output_type": "execute_result"
    },
    {
     "data": {
      "image/png": "[encoded data removed]",
      "text/plain": [
       "<Figure size 432x288 with 1 Axes>"
      ]
     },
     "metadata": {},
     "output_type": "display_data"
    }
   ],
   "source": [
    "pd.crosstab(data.hichol,data.outcome).plot(kind='bar')\n",
    "plt.title('High Cholestrol Frequency')"
   ]
  },
  {
   "cell_type": "code",
   "execution_count": 68,
   "metadata": {},
   "outputs": [
    {
     "data": {
      "text/plain": [
       "<matplotlib.axes._subplots.AxesSubplot at 0x19a4a6ff7b8>"
      ]
     },
     "execution_count": 68,
     "metadata": {},
     "output_type": "execute_result"
    },
    {
     "data": {
      "image/png": "[encoded data removed]",
      "text/plain": [
       "<Figure size 432x288 with 1 Axes>"
      ]
     },
     "metadata": {},
     "output_type": "display_data"
    }
   ],
   "source": [
    "pd.crosstab(data.angina,data.outcome).plot(kind='bar')"
   ]
  },
  {
   "cell_type": "code",
   "execution_count": 69,
   "metadata": {},
   "outputs": [
    {
     "data": {
      "text/plain": [
       "<matplotlib.axes._subplots.AxesSubplot at 0x19a4c616240>"
      ]
     },
     "execution_count": 69,
     "metadata": {},
     "output_type": "execute_result"
    },
    {
     "data": {
      "image/png": "[encoded data removed]",
      "text/plain": [
       "<Figure size 432x288 with 1 Axes>"
      ]
     },
     "metadata": {},
     "output_type": "display_data"
    }
   ],
   "source": [
    "pd.crosstab(data.stroke,data.outcome).plot(kind='bar')"
   ]
  },
  {
   "cell_type": "markdown",
   "metadata": {},
   "source": [
    "Alive people's proportion without diabetes, high cholestrol, Angina and no previous event of stroke is high."
   ]
  },
  {
   "cell_type": "code",
   "execution_count": 86,
   "metadata": {},
   "outputs": [
    {
     "data": {
      "text/plain": [
       "Unnamed: 0    70\n",
       "outcome       70\n",
       "age           70\n",
       "yronset       70\n",
       "premi         70\n",
       "smstat        70\n",
       "diabetes      70\n",
       "highbp        70\n",
       "hichol        70\n",
       "angina        70\n",
       "stroke        70\n",
       "dtype: int64"
      ]
     },
     "execution_count": 86,
     "metadata": {},
     "output_type": "execute_result"
    }
   ],
   "source": [
    "data[(data['angina'].isin(['y','nk'])) & (data['hichol'].isin(['y','nk'])) &\n",
    "     (data['diabetes'].isin(['y','nk'])) & (data['angina'].isin(['y','nk'])) & (data['stroke'].isin(['y','nk'])) \n",
    "     & (data['outcome']=='dead')].count()"
   ]
  },
  {
   "cell_type": "markdown",
   "metadata": {},
   "source": [
    "## Creating Dummy variables"
   ]
  },
  {
   "cell_type": "code",
   "execution_count": 11,
   "metadata": {},
   "outputs": [],
   "source": [
    "cat_vars = ['premi','smstat','diabetes','highbp','hichol','angina','stroke']\n",
    "for var in cat_vars:\n",
    "    cat_list='var'+'_'+var\n",
    "    cat_list = pd.get_dummies(data[var], prefix=var)\n",
    "    data1=data.join(cat_list)\n",
    "    data = data1"
   ]
  },
  {
   "cell_type": "code",
   "execution_count": 12,
   "metadata": {},
   "outputs": [],
   "source": [
    "cols = data.columns.values.tolist()"
   ]
  },
  {
   "cell_type": "code",
   "execution_count": 13,
   "metadata": {},
   "outputs": [],
   "source": [
    "to_keep = [i for i in cols if i not in cat_vars]\n",
    "data_final = data[to_keep]"
   ]
  },
  {
   "cell_type": "code",
   "execution_count": 15,
   "metadata": {},
   "outputs": [
    {
     "data": {
      "text/plain": [
       "array(['outcome', 'age', 'yronset', 'premi_n', 'premi_nk', 'premi_y',\n",
       "       'smstat_c', 'smstat_n', 'smstat_nk', 'smstat_x', 'diabetes_n',\n",
       "       'diabetes_nk', 'diabetes_y', 'highbp_n', 'highbp_nk', 'highbp_y',\n",
       "       'hichol_n', 'hichol_nk', 'hichol_y', 'angina_n', 'angina_nk',\n",
       "       'angina_y', 'stroke_n', 'stroke_nk', 'stroke_y'], dtype=object)"
      ]
     },
     "execution_count": 15,
     "metadata": {},
     "output_type": "execute_result"
    }
   ],
   "source": [
    "data_final.columns.values"
   ]
  },
  {
   "cell_type": "markdown",
   "metadata": {},
   "source": [
    "# Oversampling using SMOTE"
   ]
  },
  {
   "cell_type": "code",
   "execution_count": 16,
   "metadata": {},
   "outputs": [],
   "source": [
    "X = data_final.loc[:,data_final.columns != 'outcome']\n",
    "Y = data_final.loc[:,data_final.columns == 'outcome']"
   ]
  },
  {
   "cell_type": "code",
   "execution_count": 17,
   "metadata": {},
   "outputs": [],
   "source": [
    "from imblearn.over_sampling import SMOTE\n",
    "from sklearn.model_selection import train_test_split\n",
    "os = SMOTE(random_state=0)\n",
    "X_train,X_test,Y_train,Y_test = train_test_split(X,Y,test_size=0.2,random_state=0)\n",
    "columns=X_train.columns"
   ]
  },
  {
   "cell_type": "code",
   "execution_count": 19,
   "metadata": {},
   "outputs": [
    {
     "name": "stderr",
     "output_type": "stream",
     "text": [
      "F:\\Softwares\\Anaconda\\lib\\site-packages\\sklearn\\utils\\validation.py:724: DataConversionWarning: A column-vector y was passed when a 1d array was expected. Please change the shape of y to (n_samples, ), for example using ravel().\n",
      "  y = column_or_1d(y, warn=True)\n"
     ]
    }
   ],
   "source": [
    "os_data_X,os_data_Y = os.fit_sample(X_train,Y_train)\n",
    "os_data_X = pd.DataFrame(data=os_data_X,columns=columns)\n",
    "os_data_Y = pd.DataFrame(data=os_data_Y,columns=['outcome'])"
   ]
  },
  {
   "cell_type": "code",
   "execution_count": 23,
   "metadata": {},
   "outputs": [
    {
     "name": "stdout",
     "output_type": "stream",
     "text": [
      "Length of oversampled data is  1570\n",
      "length of people who died due to disease are  785\n",
      "length of people who are alive with disease are  785\n"
     ]
    }
   ],
   "source": [
    "print('Length of oversampled data is ',len(os_data_X))\n",
    "print('length of people who died due to disease are ',len(os_data_Y[os_data_Y['outcome']=='dead']))\n",
    "print('length of people who are alive with disease are ',len(os_data_Y[os_data_Y['outcome']=='live']))"
   ]
  },
  {
   "cell_type": "markdown",
   "metadata": {},
   "source": [
    "Now we have a perfect balanced data! I over-sampled only on the training data, because by oversampling only on the training data, none of the information in the test data is being used to create synthetic observations, therefore, no information will bleed from test data into the model training."
   ]
  },
  {
   "cell_type": "markdown",
   "metadata": {},
   "source": [
    "# Recursive Feature Elimination (RFE)\n",
    "\n",
    "Recursive Feature Elimination (RFE) is based on the idea to repeatedly construct a model and choose either the best or worst performing feature, setting the feature aside and then repeating the process with the rest of the features. This process is applied until all features in the dataset are exhausted. The goal of RFE is to select features by recursively considering smaller and smaller sets of features."
   ]
  },
  {
   "cell_type": "code",
   "execution_count": 24,
   "metadata": {},
   "outputs": [],
   "source": [
    "from sklearn.feature_selection import RFE\n",
    "from sklearn.linear_model import LogisticRegression\n",
    "\n",
    "logreg = LogisticRegression()"
   ]
  },
  {
   "cell_type": "code",
   "execution_count": 28,
   "metadata": {},
   "outputs": [
    {
     "name": "stdout",
     "output_type": "stream",
     "text": [
      "[False False  True  True  True  True  True  True  True  True  True  True\n",
      "  True False  True  True  True  True  True False  True  True  True  True]\n",
      "[5 4 1 1 1 1 1 1 1 1 1 1 1 3 1 1 1 1 1 2 1 1 1 1]\n"
     ]
    },
    {
     "name": "stderr",
     "output_type": "stream",
     "text": [
      "F:\\Softwares\\Anaconda\\lib\\site-packages\\sklearn\\linear_model\\logistic.py:432: FutureWarning: Default solver will be changed to 'lbfgs' in 0.22. Specify a solver to silence this warning.\n",
      "  FutureWarning)\n",
      "F:\\Softwares\\Anaconda\\lib\\site-packages\\sklearn\\linear_model\\logistic.py:432: FutureWarning: Default solver will be changed to 'lbfgs' in 0.22. Specify a solver to silence this warning.\n",
      "  FutureWarning)\n",
      "F:\\Softwares\\Anaconda\\lib\\site-packages\\sklearn\\linear_model\\logistic.py:432: FutureWarning: Default solver will be changed to 'lbfgs' in 0.22. Specify a solver to silence this warning.\n",
      "  FutureWarning)\n",
      "F:\\Softwares\\Anaconda\\lib\\site-packages\\sklearn\\linear_model\\logistic.py:432: FutureWarning: Default solver will be changed to 'lbfgs' in 0.22. Specify a solver to silence this warning.\n",
      "  FutureWarning)\n",
      "F:\\Softwares\\Anaconda\\lib\\site-packages\\sklearn\\linear_model\\logistic.py:432: FutureWarning: Default solver will be changed to 'lbfgs' in 0.22. Specify a solver to silence this warning.\n",
      "  FutureWarning)\n"
     ]
    }
   ],
   "source": [
    "rfe = RFE(logreg,20)\n",
    "rfe = rfe.fit(os_data_X,os_data_Y.values.ravel())\n",
    "print(rfe.support_)\n",
    "print(rfe.ranking_)"
   ]
  },
  {
   "cell_type": "code",
   "execution_count": 30,
   "metadata": {},
   "outputs": [
    {
     "data": {
      "text/plain": [
       "Index(['age', 'yronset', 'premi_n', 'premi_nk', 'premi_y', 'smstat_c',\n",
       "       'smstat_n', 'smstat_nk', 'smstat_x', 'diabetes_n', 'diabetes_nk',\n",
       "       'diabetes_y', 'highbp_n', 'highbp_nk', 'highbp_y', 'hichol_n',\n",
       "       'hichol_nk', 'hichol_y', 'angina_n', 'angina_nk', 'angina_y',\n",
       "       'stroke_n', 'stroke_nk', 'stroke_y'],\n",
       "      dtype='object')"
      ]
     },
     "execution_count": 30,
     "metadata": {},
     "output_type": "execute_result"
    }
   ],
   "source": [
    "os_data_X.columns"
   ]
  },
  {
   "cell_type": "markdown",
   "metadata": {},
   "source": [
    "From list of 24 columns RFE has helped us select 20 below features __'premi_n', 'premi_nk', 'premi_y', 'smstat_c',\n",
    "       'smstat_n', 'smstat_nk', 'smstat_x', 'diabetes_n', 'diabetes_nk',\n",
    "       'diabetes_y', 'highbp_n', 'highbp_y', 'hichol_n',\n",
    "       'hichol_nk', 'hichol_y', 'angina_n', 'angina_y',\n",
    "       'stroke_n', 'stroke_nk', 'stroke_y'__"
   ]
  },
  {
   "cell_type": "code",
   "execution_count": 31,
   "metadata": {},
   "outputs": [],
   "source": [
    "cols = ['premi_n', 'premi_nk', 'premi_y', 'smstat_c', 'smstat_n', 'smstat_nk', 'smstat_x', 'diabetes_n', 'diabetes_nk', 'diabetes_y', 'highbp_n', 'highbp_y', 'hichol_n', 'hichol_nk', 'hichol_y', 'angina_n', 'angina_y', 'stroke_n', 'stroke_nk', 'stroke_y']\n",
    "X = os_data_X[cols]\n",
    "Y = os_data_Y['outcome']"
   ]
  },
  {
   "cell_type": "code",
   "execution_count": 35,
   "metadata": {},
   "outputs": [
    {
     "name": "stderr",
     "output_type": "stream",
     "text": [
      "F:\\Softwares\\Anaconda\\lib\\site-packages\\sklearn\\linear_model\\logistic.py:432: FutureWarning: Default solver will be changed to 'lbfgs' in 0.22. Specify a solver to silence this warning.\n",
      "  FutureWarning)\n"
     ]
    },
    {
     "data": {
      "text/plain": [
       "LogisticRegression(C=1.0, class_weight=None, dual=False, fit_intercept=True,\n",
       "                   intercept_scaling=1, l1_ratio=None, max_iter=100,\n",
       "                   multi_class='warn', n_jobs=None, penalty='l2',\n",
       "                   random_state=None, solver='warn', tol=0.0001, verbose=0,\n",
       "                   warm_start=False)"
      ]
     },
     "execution_count": 35,
     "metadata": {},
     "output_type": "execute_result"
    }
   ],
   "source": [
    "X_train,X_test,Y_train,Y_test = train_test_split(X,Y,test_size=0.2,random_state=1)\n",
    "logreg.fit(X_train,Y_train)"
   ]
  },
  {
   "cell_type": "code",
   "execution_count": 36,
   "metadata": {},
   "outputs": [],
   "source": [
    "Y_predict_train = logreg.predict(X_train)\n",
    "Y_predict_test = logreg.predict(X_test)"
   ]
  },
  {
   "cell_type": "markdown",
   "metadata": {},
   "source": [
    "# Model Evaluation"
   ]
  },
  {
   "cell_type": "code",
   "execution_count": 37,
   "metadata": {},
   "outputs": [
    {
     "name": "stdout",
     "output_type": "stream",
     "text": [
      "Accuracy score of the data is  0.856687898089172\n"
     ]
    }
   ],
   "source": [
    "from sklearn.metrics import accuracy_score\n",
    "print('Accuracy score of the data is ',accuracy_score(Y_test,Y_predict_test))"
   ]
  },
  {
   "cell_type": "code",
   "execution_count": null,
   "metadata": {},
   "outputs": [],
   "source": []
  }
 ],
 "metadata": {
  "kernelspec": {
   "display_name": "Python 3",
   "language": "python",
   "name": "python3"
  },
  "language_info": {
   "codemirror_mode": {
    "name": "ipython",
    "version": 3
   },
   "file_extension": ".py",
   "mimetype": "text/x-python",
   "name": "python",
   "nbconvert_exporter": "python",
   "pygments_lexer": "ipython3",
   "version": "3.7.3"
  }
 },
 "nbformat": 4,
 "nbformat_minor": 2
}
